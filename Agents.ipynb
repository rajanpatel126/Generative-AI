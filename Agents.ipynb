{
 "cells": [
  {
   "cell_type": "code",
   "execution_count": 1,
   "id": "dc3024bd",
   "metadata": {},
   "outputs": [
    {
     "data": {
      "text/plain": [
       "True"
      ]
     },
     "execution_count": 1,
     "metadata": {},
     "output_type": "execute_result"
    }
   ],
   "source": [
    "from dotenv import load_dotenv\n",
    "load_dotenv()"
   ]
  },
  {
   "cell_type": "code",
   "execution_count": 3,
   "id": "36895252-b364-4937-83a3-9111007a796b",
   "metadata": {},
   "outputs": [],
   "source": [
    "import os\n",
    "\n",
    "os.environ[\"GOOGLE_CSE_ID\"] = os.getenv('GOOGLE_CSE_ID')\n",
    "os.environ[\"GOOGLE_API_KEY\"] = os.getenv('GOOGLE_API_KEY')"
   ]
  },
  {
   "cell_type": "code",
   "execution_count": 4,
   "id": "fbf74304-9330-4e19-be7c-e4d1992ccb08",
   "metadata": {},
   "outputs": [],
   "source": [
    "from langchain.tools import Tool\n",
    "from langchain_community.utilities import GoogleSearchAPIWrapper\n",
    "\n",
    "search = GoogleSearchAPIWrapper()\n",
    "\n",
    "tool = Tool(\n",
    "    name=\"Google Search\",\n",
    "    description=\"Search Google for recent results.\",\n",
    "    func=search.run,\n",
    ")"
   ]
  },
  {
   "cell_type": "code",
   "execution_count": 5,
   "id": "13bf21af-4f5f-44c7-bbad-8b6cf43f0b16",
   "metadata": {},
   "outputs": [
    {
     "data": {
      "text/plain": [
       "\"Over the following months the White House set terms for both firms' bankruptcies ... A Gallup poll, taken in the final days of Obama's term, showed that 68\\xa0... 37M Followers, 9 Following, 894 Posts - See Instagram photos and videos from Barack Obama (@barackobama) Additionally, at age 99, Carter is both the oldest of the six living U.S. presidents, and the nation's longest-lived president. Barack Obama, at age 62, is the\\xa0... Fifteen years ago, the Lilly Ledbetter Fair Pay Act became law. But despite ... Happy birthday to my better half — who happens to be one of the funniest\\xa0... He also worked as a Senior Lecturer at the University of Chicago from 1996 until 2004, teaching three courses per year. Obama was elected to a second term in\\xa0... Are you looking for an Age Calculator to calculate your age by date of birth? With this chronological age calculator app, you come to know how old you are\\xa0... Find answers to commonly asked questions about employer shared responsibility provisions under the Affordable Care Act (ACA). Apr 28, 2021 ... ... years, and will reduce deficits over the long term. ADD AT LEAST ... days of bereavement leave per year starting in year one. The program\\xa0... If the employee separates, life insurance continues for up to 12 months, or 90 days after uniformed service ends, whichever is sooner. ... years of age were no\\xa0... Nov 13, 2023 ... ... years of age at the time of the request. If you are under 18 years ... Filing earlier than 150 days before your current DACA expiration date will\\xa0...\""
      ]
     },
     "execution_count": 5,
     "metadata": {},
     "output_type": "execute_result"
    }
   ],
   "source": [
    "tool.run(\"What is Obama's current age in terms of years, months and days?\")"
   ]
  },
  {
   "cell_type": "code",
   "execution_count": 6,
   "id": "a6bd1b75-b023-487b-b036-334abe0e2896",
   "metadata": {},
   "outputs": [
    {
     "data": {
      "text/plain": [
       "\"Dec 28, 2023 ... Ram Mandir Ayodhya opening date: The 'pran pratishtha' or the consecration ceremony of the idol of Lord Ram in Ayodhya is scheduled for January\\xa0... Dec 16, 2023 ... Prime Minister Narendra Modi is scheduled to open the Ram Temple for the devotees in a grand inauguration ceremony on 22 January. On the\\xa0... Dec 20, 2023 ... ... January 15 and culminate in the live telecast of the Ram Temple inauguration from Ayodhya on the night of January 20, Tejal Shah from the\\xa0... Jan 2, 2024 ... In a post shared through his X handle, Arjunamurthy stated that he had invited Rajinikanth to the Ayodhya Kumbabhishek event on January 22 and\\xa0... Jan 22, 2024 ... The inauguration ceremony for Ram Mandir is set to begin on January 16, 2024. Lord Ram Lalla's consecration is scheduled for January 22, 2024. The events commenced from December 2023, culminated in the grand celebrations from Makar Sankranti on 16 January 2024, and lasted until the inauguration of the\\xa0... Oct 26, 2023 ... Prime Minister Narendra Modi on Wednesday said that he will attend the inauguration of the Ram temple in Ayodhya on January 22, 2024. Jan 22, 2024 ... Ayodhya has seen a multimillion dollar infrastructure makeover ahead of temple opening. From CNN staff. A\\xa0... Aug 4, 2023 ... Ram temple in Ayodhya to be inaugurated between January 14 and 24. Prime Minister Narendra Modi to confirm date. Trust plans to invite 25000\\xa0... Jan 20, 2024 ... Ayodhya's Muslims confront grief and anxiety as Ram Temple inauguration nears ... Saffron flags are flying in the majority Hindu town of Ayodhya\\xa0...\""
      ]
     },
     "execution_count": 6,
     "metadata": {},
     "output_type": "execute_result"
    }
   ],
   "source": [
    "tool.run(\"What is the inaugeration date of Ram Mandir, Ayodhya?\")"
   ]
  },
  {
   "cell_type": "code",
   "execution_count": 7,
   "id": "3e34ad09",
   "metadata": {},
   "outputs": [
    {
     "name": "stdout",
     "output_type": "stream",
     "text": [
      "\u001b[32;1m\u001b[1;3mNarendra Damodardas Modi is an Indian politician who has served as the 14th prime minister of India since May 2014. Modi was the chief minister of Gujarat ... Rajiv Gandhi was the youngest Prime Minister of India, perhaps even one of the youngest elected heads of Government in the world. His mother, Smt. Indira ... Be above 25 years of age if they are a member of the Lok Sabha, or, above 30 years of age if they are a member of the Rajya Sabha. Not hold any office of profit ... Mar 24, 2023 ... The median age of current national leaders is 62. When grouped by ... Finnish Prime Minister Sanna Marin is the youngest woman in power at 37 ... Indian politics got the youngest ever Prime minister in Rajiv Gandhi. This phenomenon attracted attention the world over. . . his winsome smile, charm and ... narendramodi. Follow. Message. Narendra Modi. Prime Minister of India. whatsapp.com/channel/0029Va8IaebCMY0C8oOkQT1F + 1. 711 posts; 86.6M followers; 0 ... The PM CARES for Children Scheme was launched by The Hon'ble Prime Minister of India on 29th May 2021 for the Children. It aims to support children who have ... Apr 21, 2015 ... ... youngest median age and the highest fertility rates among major religious groups in India. ... Even India's current prime minister, Narendra Modi, ... Recent News ; In full: Narendra Damodardas Modi ; Born: September 17, 1950, Vadnagar, India (age 73) ; Title / Office: prime minister (2014-), India. PM-SYM ... Government of India has introduced a pension scheme for unorganised workers namely Pradhan Mantri Shram Yogi Maan-dhan (PM-SYM) to ensure old age ...\u001b[0m"
     ]
    },
    {
     "data": {
      "text/plain": [
       "\"Narendra Damodardas Modi is an Indian politician who has served as the 14th prime minister of India since May 2014. Modi was the chief minister of Gujarat\\xa0... Rajiv Gandhi was the youngest Prime Minister of India, perhaps even one of the youngest elected heads of Government in the world. His mother, Smt. Indira\\xa0... Be above 25 years of age if they are a member of the Lok Sabha, or, above 30 years of age if they are a member of the Rajya Sabha. Not hold any office of profit\\xa0... Mar 24, 2023 ... The median age of current national leaders is 62. When grouped by ... Finnish Prime Minister Sanna Marin is the youngest woman in power at 37\\xa0... Indian politics got the youngest ever Prime minister in Rajiv Gandhi. This phenomenon attracted attention the world over. . . his winsome smile, charm and\\xa0... narendramodi. Follow. Message. Narendra Modi. Prime Minister of India. whatsapp.com/channel/0029Va8IaebCMY0C8oOkQT1F + 1. 711 posts; 86.6M followers; 0\\xa0... The PM CARES for Children Scheme was launched by The Hon'ble Prime Minister of India on 29th May 2021 for the Children. It aims to support children who have\\xa0... Apr 21, 2015 ... ... youngest median age and the highest fertility rates among major religious groups in India. ... Even India's current prime minister, Narendra Modi,\\xa0... Recent News ; In full: Narendra Damodardas Modi ; Born: September 17, 1950, Vadnagar, India (age 73) ; Title / Office: prime minister (2014-), India. PM-SYM ... Government of India has introduced a pension scheme for unorganised workers namely Pradhan Mantri Shram Yogi Maan-dhan (PM-SYM) to ensure old age\\xa0...\""
      ]
     },
     "execution_count": 7,
     "metadata": {},
     "output_type": "execute_result"
    }
   ],
   "source": [
    "tool.run(\"What is the age of current prime minister of India?\", verbose=True)"
   ]
  },
  {
   "cell_type": "code",
   "execution_count": 5,
   "id": "b0340696",
   "metadata": {},
   "outputs": [],
   "source": [
    "search = GoogleSearchAPIWrapper()\n",
    "\n",
    "\n",
    "def top5_results(query):\n",
    "    return search.results(query, 5)\n",
    "\n",
    "\n",
    "tool = Tool(\n",
    "    name=\"Google Search Snippets\",\n",
    "    description=\"Search Google for top results.\",\n",
    "    func=top5_results,\n",
    ")"
   ]
  },
  {
   "cell_type": "code",
   "execution_count": 6,
   "id": "a2d0a4c1",
   "metadata": {},
   "outputs": [
    {
     "name": "stdout",
     "output_type": "stream",
     "text": [
      "\u001b[32;1m\u001b[1;3m[{'title': \"Why India's New Ram Temple in Ayodhya Is So Important - The New ...\", 'link': 'https://www.nytimes.com/2024/01/22/world/asia/india-ram-temple-ayodhya.html', 'snippet': 'Jan 22, 2024 ... What Sets This Temple Apart? ... First, the theological reason. Ayodhya is the original home of Ram. Its spot on the Sarayu River was where his\\xa0...'}, {'title': 'Ram Mandir - Wikipedia', 'link': 'https://en.wikipedia.org/wiki/Ram_Mandir', 'snippet': \"The Ram Mandir ( lit. 'Rama Temple') is a Hindu temple in Ayodhya, Uttar Pradesh, India. Many Hindus believe that it is located at the site of Ram\\xa0...\"}, {'title': 'In Ayodhya, Modi Opens Ram Temple in Triumph for Hindu ...', 'link': 'https://www.nytimes.com/2024/01/22/world/asia/modi-india-ram-temple.html', 'snippet': \"Jan 22, 2024 ... Modi, now the country's prime minister, inaugurated the Ram temple in Ayodhya on Monday — the crowning achievement of a national movement aimed\\xa0...\"}, {'title': 'Ayodhya: All you need to know about the Ram temple that Modi ...', 'link': 'https://apnews.com/article/ayodhya-ram-mandir-temple-hindu-nationalists-modi-hinduism-e6765dd13edb57a1644e961471939c30', 'snippet': 'Jan 22, 2024 ... Indian Prime Minister Narendra Modi has opened a grand temple built on the site of a destroyed mosque in the northern city of Ayodhya. Read More'}, {'title': \"Why Modi's Temple of Ram in Ayodhya, India Is Controversial | TIME\", 'link': 'https://time.com/6564070/india-modi-temple-ram/', 'snippet': 'Jan 22, 2024 ... The Ram Mandir, a Hindu temple, will be consecrated on January 22. Indian Prime Minister Narendra Modi will play a key role in the ceremony.'}]\u001b[0m"
     ]
    },
    {
     "data": {
      "text/plain": [
       "[{'title': \"Why India's New Ram Temple in Ayodhya Is So Important - The New ...\",\n",
       "  'link': 'https://www.nytimes.com/2024/01/22/world/asia/india-ram-temple-ayodhya.html',\n",
       "  'snippet': 'Jan 22, 2024 ... What Sets This Temple Apart? ... First, the theological reason. Ayodhya is the original home of Ram. Its spot on the Sarayu River was where his\\xa0...'},\n",
       " {'title': 'Ram Mandir - Wikipedia',\n",
       "  'link': 'https://en.wikipedia.org/wiki/Ram_Mandir',\n",
       "  'snippet': \"The Ram Mandir ( lit. 'Rama Temple') is a Hindu temple in Ayodhya, Uttar Pradesh, India. Many Hindus believe that it is located at the site of Ram\\xa0...\"},\n",
       " {'title': 'In Ayodhya, Modi Opens Ram Temple in Triumph for Hindu ...',\n",
       "  'link': 'https://www.nytimes.com/2024/01/22/world/asia/modi-india-ram-temple.html',\n",
       "  'snippet': \"Jan 22, 2024 ... Modi, now the country's prime minister, inaugurated the Ram temple in Ayodhya on Monday — the crowning achievement of a national movement aimed\\xa0...\"},\n",
       " {'title': 'Ayodhya: All you need to know about the Ram temple that Modi ...',\n",
       "  'link': 'https://apnews.com/article/ayodhya-ram-mandir-temple-hindu-nationalists-modi-hinduism-e6765dd13edb57a1644e961471939c30',\n",
       "  'snippet': 'Jan 22, 2024 ... Indian Prime Minister Narendra Modi has opened a grand temple built on the site of a destroyed mosque in the northern city of Ayodhya. Read More'},\n",
       " {'title': \"Why Modi's Temple of Ram in Ayodhya, India Is Controversial | TIME\",\n",
       "  'link': 'https://time.com/6564070/india-modi-temple-ram/',\n",
       "  'snippet': 'Jan 22, 2024 ... The Ram Mandir, a Hindu temple, will be consecrated on January 22. Indian Prime Minister Narendra Modi will play a key role in the ceremony.'}]"
      ]
     },
     "execution_count": 6,
     "metadata": {},
     "output_type": "execute_result"
    }
   ],
   "source": [
    "tool.run('Give me the articles of Ram Mandir, Ayodhya', verbose=True)"
   ]
  },
  {
   "cell_type": "code",
   "execution_count": 13,
   "id": "d542ef0b",
   "metadata": {},
   "outputs": [
    {
     "name": "stdout",
     "output_type": "stream",
     "text": [
      "\u001b[32;1m\u001b[1;3m[{'title': \"Decoding India's 2024 Election Contest - Carnegie Endowment for ...\", 'link': 'https://carnegieendowment.org/2023/12/07/decoding-india-s-2024-election-contest-pub-91178', 'snippet': 'Dec 7, 2023 ... Summary: As India gears up for general elections in 2024, the ruling Bharatiya Janata Party of Prime Minister Narendra Modi sits comfortably in\\xa0...'}, {'title': '2024 Indian general election - Wikipedia', 'link': 'https://en.wikipedia.org/wiki/2024_Indian_general_election', 'snippet': 'General elections are expected to be held in India between April and May 2024 to elect 543 members of the Lok Sabha.'}, {'title': 'India towards the next general election in 2024', 'link': 'https://www.iiss.org/sv/events/2023/062/india-towards-the-next-general-election-in-2024/', 'snippet': \"India's Prime Minister Narendra Modi and his ruling Bharatiya Janata Party (BJP) are campaigning to be re-elected for a third five-year term,\\xa0...\"}, {'title': '2024 elections in India - Wikipedia', 'link': 'https://en.wikipedia.org/wiki/2024_elections_in_India', 'snippet': 'The 2024 elections in India includes the general election and elections to the Rajya Sabha, to state legislative assemblies, to Panchayats and urban local\\xa0...'}, {'title': \"BJP win in India's 2024 general election 'almost an inevitability ...\", 'link': 'https://www.theguardian.com/world/2023/dec/31/bjp-modi-india-general-election-2024', 'snippet': \"Dec 31, 2023 ... BJP win in India's 2024 general election 'almost an inevitability' · A shopkeeper displays rings with BJP and Indian National Congress party\\xa0...\"}]\u001b[0m"
     ]
    },
    {
     "data": {
      "text/plain": [
       "[{'title': \"Decoding India's 2024 Election Contest - Carnegie Endowment for ...\",\n",
       "  'link': 'https://carnegieendowment.org/2023/12/07/decoding-india-s-2024-election-contest-pub-91178',\n",
       "  'snippet': 'Dec 7, 2023 ... Summary: As India gears up for general elections in 2024, the ruling Bharatiya Janata Party of Prime Minister Narendra Modi sits comfortably in\\xa0...'},\n",
       " {'title': '2024 Indian general election - Wikipedia',\n",
       "  'link': 'https://en.wikipedia.org/wiki/2024_Indian_general_election',\n",
       "  'snippet': 'General elections are expected to be held in India between April and May 2024 to elect 543 members of the Lok Sabha.'},\n",
       " {'title': 'India towards the next general election in 2024',\n",
       "  'link': 'https://www.iiss.org/sv/events/2023/062/india-towards-the-next-general-election-in-2024/',\n",
       "  'snippet': \"India's Prime Minister Narendra Modi and his ruling Bharatiya Janata Party (BJP) are campaigning to be re-elected for a third five-year term,\\xa0...\"},\n",
       " {'title': '2024 elections in India - Wikipedia',\n",
       "  'link': 'https://en.wikipedia.org/wiki/2024_elections_in_India',\n",
       "  'snippet': 'The 2024 elections in India includes the general election and elections to the Rajya Sabha, to state legislative assemblies, to Panchayats and urban local\\xa0...'},\n",
       " {'title': \"BJP win in India's 2024 general election 'almost an inevitability ...\",\n",
       "  'link': 'https://www.theguardian.com/world/2023/dec/31/bjp-modi-india-general-election-2024',\n",
       "  'snippet': \"Dec 31, 2023 ... BJP win in India's 2024 general election 'almost an inevitability' · A shopkeeper displays rings with BJP and Indian National Congress party\\xa0...\"}]"
      ]
     },
     "execution_count": 13,
     "metadata": {},
     "output_type": "execute_result"
    }
   ],
   "source": [
    "tool.run(\"Articles about Indian Parliament Elections 2024\", verbose=True)"
   ]
  },
  {
   "cell_type": "code",
   "execution_count": 7,
   "id": "ae883dcb",
   "metadata": {},
   "outputs": [
    {
     "name": "stdout",
     "output_type": "stream",
     "text": [
      "\u001b[32;1m\u001b[1;3m[{'title': 'The most insightful stories about Data Science - Medium', 'link': 'https://medium.com/tag/data-science', 'snippet': 'Read stories about Data Science on Medium. Discover smart, unique perspectives on Data Science and the topics that matter most to you like Machine Learning,\\xa0...'}, {'title': 'A Very Dangerous Data Science Article | by Keith McNulty | Medium', 'link': 'https://keith-mcnulty.medium.com/a-very-dangerous-data-science-article-415e576f0c44', 'snippet': 'Jun 11, 2023 ... A few years ago an article was published in Harvard Business Review online called Prioritize Which Data Skills Your Company Needs with This\\xa0...'}, {'title': 'Data Science – Towards Data Science', 'link': 'https://towardsdatascience.com/data-science/home', 'snippet': '4 days ago ... ... ideas and to expand our understanding of data science. Your home for data science. A Medium publication sharing concepts, ideas and codes.'}, {'title': 'Top 13 Medium Data Science/ML/AI Publications — You Should ...', 'link': 'https://medium.com/geekculture/top-13-medium-data-science-ml-ai-publications-you-should-send-your-articles-1bfb0a926488', 'snippet': \"Sep 12, 2022 ... In this article you'll get 13 top Data Science/Machine Learning and Artificial Intelligence Publications. Also you will see their number of\\xa0...\"}, {'title': \"I Dropped Out of School to Create My Own Data Science Master's ...\", 'link': 'https://davidventuri.medium.com/i-dropped-out-of-school-to-create-my-own-data-science-master-s-here-s-my-curriculum-1b400dcee412', 'snippet': 'Apr 19, 2016 ... ... Medium or on my personal website — davidventuri.com. My curriculum ... I ranked every Intro to Data Science course on the internet, based on\\xa0...'}]\u001b[0m"
     ]
    },
    {
     "data": {
      "text/plain": [
       "[{'title': 'The most insightful stories about Data Science - Medium',\n",
       "  'link': 'https://medium.com/tag/data-science',\n",
       "  'snippet': 'Read stories about Data Science on Medium. Discover smart, unique perspectives on Data Science and the topics that matter most to you like Machine Learning,\\xa0...'},\n",
       " {'title': 'A Very Dangerous Data Science Article | by Keith McNulty | Medium',\n",
       "  'link': 'https://keith-mcnulty.medium.com/a-very-dangerous-data-science-article-415e576f0c44',\n",
       "  'snippet': 'Jun 11, 2023 ... A few years ago an article was published in Harvard Business Review online called Prioritize Which Data Skills Your Company Needs with This\\xa0...'},\n",
       " {'title': 'Data Science – Towards Data Science',\n",
       "  'link': 'https://towardsdatascience.com/data-science/home',\n",
       "  'snippet': '4 days ago ... ... ideas and to expand our understanding of data science. Your home for data science. A Medium publication sharing concepts, ideas and codes.'},\n",
       " {'title': 'Top 13 Medium Data Science/ML/AI Publications — You Should ...',\n",
       "  'link': 'https://medium.com/geekculture/top-13-medium-data-science-ml-ai-publications-you-should-send-your-articles-1bfb0a926488',\n",
       "  'snippet': \"Sep 12, 2022 ... In this article you'll get 13 top Data Science/Machine Learning and Artificial Intelligence Publications. Also you will see their number of\\xa0...\"},\n",
       " {'title': \"I Dropped Out of School to Create My Own Data Science Master's ...\",\n",
       "  'link': 'https://davidventuri.medium.com/i-dropped-out-of-school-to-create-my-own-data-science-master-s-here-s-my-curriculum-1b400dcee412',\n",
       "  'snippet': 'Apr 19, 2016 ... ... Medium or on my personal website — davidventuri.com. My curriculum ... I ranked every Intro to Data Science course on the internet, based on\\xa0...'}]"
      ]
     },
     "execution_count": 7,
     "metadata": {},
     "output_type": "execute_result"
    }
   ],
   "source": [
    "tool.run('Give me the article based on Data Science from MEDIUM website', verbose=True)"
   ]
  },
  {
   "cell_type": "code",
   "execution_count": null,
   "id": "83baca88",
   "metadata": {},
   "outputs": [],
   "source": []
  }
 ],
 "metadata": {
  "kernelspec": {
   "display_name": "Python 3 (ipykernel)",
   "language": "python",
   "name": "python3"
  },
  "language_info": {
   "codemirror_mode": {
    "name": "ipython",
    "version": 3
   },
   "file_extension": ".py",
   "mimetype": "text/x-python",
   "name": "python",
   "nbconvert_exporter": "python",
   "pygments_lexer": "ipython3",
   "version": "3.12.1"
  }
 },
 "nbformat": 4,
 "nbformat_minor": 5
}
