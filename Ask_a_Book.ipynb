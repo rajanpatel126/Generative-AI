{
 "cells": [
  {
   "cell_type": "code",
   "execution_count": 1,
   "metadata": {},
   "outputs": [
    {
     "data": {
      "text/plain": [
       "True"
      ]
     },
     "execution_count": 1,
     "metadata": {},
     "output_type": "execute_result"
    }
   ],
   "source": [
    "from langchain_community.document_loaders import PyPDFLoader\n",
    "from langchain.text_splitter import RecursiveCharacterTextSplitter\n",
    "from dotenv import load_dotenv\n",
    "import os\n",
    "\n",
    "load_dotenv()"
   ]
  },
  {
   "cell_type": "code",
   "execution_count": 2,
   "metadata": {},
   "outputs": [],
   "source": [
    "loader = PyPDFLoader(file_path=\"./The_3_Alarms.pdf\")\n",
    "data = loader.load_and_split()"
   ]
  },
  {
   "cell_type": "code",
   "execution_count": 3,
   "metadata": {},
   "outputs": [
    {
     "name": "stdout",
     "output_type": "stream",
     "text": [
      "There are 134 documents in data\n",
      "There are 100 characters in document\n",
      "Here is a sample: THE 3 ALARMSA Simple System to Transform Your Health, Wealth, and Relationships ForeverERIC PARTAKER\n"
     ]
    }
   ],
   "source": [
    "print (f'There are {len(data)} documents in data')\n",
    "print (f'There are {len(data[0].page_content)} characters in document')\n",
    "print (f'Here is a sample: {data[0].page_content[:200]}')"
   ]
  },
  {
   "cell_type": "code",
   "execution_count": 4,
   "metadata": {},
   "outputs": [],
   "source": [
    "text_splitter = RecursiveCharacterTextSplitter(chunk_size=500, chunk_overlap=50)\n",
    "texts = text_splitter.split_documents(data)"
   ]
  },
  {
   "cell_type": "code",
   "execution_count": 5,
   "metadata": {},
   "outputs": [
    {
     "name": "stdout",
     "output_type": "stream",
     "text": [
      "Now There are 437 documents\n"
     ]
    }
   ],
   "source": [
    "print (f'Now There are {len(texts)} documents')"
   ]
  },
  {
   "cell_type": "code",
   "execution_count": 6,
   "metadata": {},
   "outputs": [],
   "source": [
    "from langchain_community.vectorstores import Chroma\n",
    "from langchain_openai import OpenAIEmbeddings"
   ]
  },
  {
   "cell_type": "code",
   "execution_count": 20,
   "metadata": {},
   "outputs": [],
   "source": [
    "OPENAI_API_KEY = os.getenv(\"OPENAI_API_KEY\")\n",
    "OPENAI_ORGANIZATION_KEY = os.getenv(\"OPENAI_ORGANIZATION_KEY\")\n",
    "embeddings = OpenAIEmbeddings(openai_api_key=OPENAI_API_KEY)"
   ]
  },
  {
   "cell_type": "code",
   "execution_count": 21,
   "metadata": {},
   "outputs": [],
   "source": [
    "vectorstore = Chroma.from_documents(texts, embeddings)"
   ]
  },
  {
   "cell_type": "code",
   "execution_count": 22,
   "metadata": {},
   "outputs": [],
   "source": [
    "query = \"What is the author's opinion on Procrastination?\"\n",
    "docs = vectorstore.similarity_search(query)"
   ]
  },
  {
   "cell_type": "code",
   "execution_count": 23,
   "metadata": {},
   "outputs": [
    {
     "name": "stdout",
     "output_type": "stream",
     "text": [
      "THE 3 ALARMSaccomplish your goals. Yet procrastination still seems to plaguemost of us.I used to be a terrible procrastinator. I even had a collection ofbooks about procrastination that I bought in 2000 and procrasti‐nated on reading until 2010. I have always achieved a lot, but itcame packaged with a lot of unnecessary stress and pain. Imaginehow much progress I could have made if I had just picked up thebooks ten years earlier. One of those books was The Now Habit bypsychologist Neil Fiore,\n",
      "\n",
      "THE 3 ALARMSaccomplish your goals. Yet procrastination still seems to plaguemost of us.I used to be a terrible procrastinator. I even had a collection ofbooks about procrastination that I bought in 2000 and procrasti‐nated on reading until 2010. I have always achieved a lot, but itcame packaged with a lot of unnecessary stress and pain. Imaginehow much progress I could have made if I had just picked up thebooks ten years earlier. One of those books was The Now Habit bypsychologist Neil Fiore,\n",
      "\n",
      "to myself when I procrastinated. When you feel your‐self beginning to procrastinate, verbalize what’s going on in yourhead at that moment. You’ll probably be saying something alongthe lines of “I have to” or “I must.” This is the language of oppres‐sion, Neil pointed out, and suggests you're being forced to do some‐thing you don’t want to do. Being forced to do anything createsresistance, which manifests as procrastination.Neil taught me to change from the language of oppression,\n",
      "\n",
      "to myself when I procrastinated. When you feel your‐self beginning to procrastinate, verbalize what’s going on in yourhead at that moment. You’ll probably be saying something alongthe lines of “I have to” or “I must.” This is the language of oppres‐sion, Neil pointed out, and suggests you're being forced to do some‐thing you don’t want to do. Being forced to do anything createsresistance, which manifests as procrastination.Neil taught me to change from the language of oppression,\n",
      "\n"
     ]
    }
   ],
   "source": [
    "for doc in docs:\n",
    "    print (f\"{doc.page_content}\\n\")"
   ]
  },
  {
   "cell_type": "code",
   "execution_count": 24,
   "metadata": {},
   "outputs": [],
   "source": [
    "from langchain_openai import ChatOpenAI\n",
    "from langchain.chains.question_answering import load_qa_chain"
   ]
  },
  {
   "cell_type": "code",
   "execution_count": 28,
   "metadata": {},
   "outputs": [],
   "source": [
    "llm = ChatOpenAI(temperature=0, openai_api_key=OPENAI_API_KEY)\n",
    "chain = load_qa_chain(llm, chain_type=\"stuff\")"
   ]
  },
  {
   "cell_type": "code",
   "execution_count": 29,
   "metadata": {},
   "outputs": [],
   "source": [
    "query = \"How are the 3 realm of the life?\"\n",
    "docs = vectorstore.similarity_search(query)"
   ]
  },
  {
   "cell_type": "code",
   "execution_count": 30,
   "metadata": {},
   "outputs": [
    {
     "data": {
      "text/plain": [
       "'The three realms of life mentioned in the context are the Health, Work, and Relationship domains. These domains are essential for a fulfilled life and are interconnected in impacting overall well-being and success.'"
      ]
     },
     "execution_count": 30,
     "metadata": {},
     "output_type": "execute_result"
    }
   ],
   "source": [
    "chain.run(input_documents=docs, question=query)"
   ]
  }
 ],
 "metadata": {
  "kernelspec": {
   "display_name": "Python 3",
   "language": "python",
   "name": "python3"
  },
  "language_info": {
   "codemirror_mode": {
    "name": "ipython",
    "version": 3
   },
   "file_extension": ".py",
   "mimetype": "text/x-python",
   "name": "python",
   "nbconvert_exporter": "python",
   "pygments_lexer": "ipython3",
   "version": "3.12.2"
  }
 },
 "nbformat": 4,
 "nbformat_minor": 2
}
