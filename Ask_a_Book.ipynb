{
 "cells": [
  {
   "cell_type": "code",
   "execution_count": 3,
   "metadata": {},
   "outputs": [
    {
     "data": {
      "text/plain": [
       "True"
      ]
     },
     "execution_count": 3,
     "metadata": {},
     "output_type": "execute_result"
    }
   ],
   "source": [
    "from langchain_community.document_loaders import PyPDFLoader\n",
    "from langchain.text_splitter import RecursiveCharacterTextSplitter\n",
    "from dotenv import load_dotenv\n",
    "import os\n",
    "\n",
    "load_dotenv()"
   ]
  },
  {
   "cell_type": "code",
   "execution_count": 4,
   "metadata": {},
   "outputs": [],
   "source": [
    "loader = PyPDFLoader(file_path=\"./The_3_Alarms.pdf\")\n",
    "data = loader.load_and_split()"
   ]
  },
  {
   "cell_type": "code",
   "execution_count": 5,
   "metadata": {},
   "outputs": [
    {
     "name": "stdout",
     "output_type": "stream",
     "text": [
      "There are 134 documents in data\n",
      "There are 100 characters in document\n",
      "Here is a sample: THE 3 ALARMSA Simple System to Transform Your Health, Wealth, and Relationships ForeverERIC PARTAKER\n"
     ]
    }
   ],
   "source": [
    "print (f'There are {len(data)} documents in data')\n",
    "print (f'There are {len(data[0].page_content)} characters in document')\n",
    "print (f'Here is a sample: {data[0].page_content[:200]}')"
   ]
  },
  {
   "cell_type": "code",
   "execution_count": 8,
   "metadata": {},
   "outputs": [],
   "source": [
    "text_splitter = RecursiveCharacterTextSplitter(chunk_size=500, chunk_overlap=100)\n",
    "texts = text_splitter.split_documents(data)"
   ]
  },
  {
   "cell_type": "code",
   "execution_count": 9,
   "metadata": {},
   "outputs": [
    {
     "name": "stdout",
     "output_type": "stream",
     "text": [
      "Now There are 466 documents\n"
     ]
    }
   ],
   "source": [
    "print (f'Now There are {len(texts)} documents')"
   ]
  },
  {
   "cell_type": "code",
   "execution_count": 10,
   "metadata": {},
   "outputs": [],
   "source": [
    "from langchain_community.vectorstores import Chroma\n",
    "from langchain_openai import OpenAIEmbeddings"
   ]
  },
  {
   "cell_type": "code",
   "execution_count": 11,
   "metadata": {},
   "outputs": [],
   "source": [
    "OPENAI_API_KEY = os.getenv(\"OPENAI_API_KEY\")\n",
    "OPENAI_ORGANIZATION_KEY = os.getenv(\"OPENAI_ORGANIZATION_KEY\")\n",
    "embeddings = OpenAIEmbeddings(openai_api_key=OPENAI_API_KEY)"
   ]
  },
  {
   "cell_type": "code",
   "execution_count": 13,
   "metadata": {},
   "outputs": [],
   "source": [
    "vectorstore = Chroma.from_documents(texts, embeddings)"
   ]
  },
  {
   "cell_type": "code",
   "execution_count": 14,
   "metadata": {},
   "outputs": [],
   "source": [
    "query = \"What is the author's opinion on Procrastination?\"\n",
    "docs = vectorstore.similarity_search(query)"
   ]
  },
  {
   "cell_type": "code",
   "execution_count": 15,
   "metadata": {},
   "outputs": [
    {
     "name": "stdout",
     "output_type": "stream",
     "text": [
      "THE 3 ALARMSaccomplish your goals. Yet procrastination still seems to plaguemost of us.I used to be a terrible procrastinator. I even had a collection ofbooks about procrastination that I bought in 2000 and procrasti‐nated on reading until 2010. I have always achieved a lot, but itcame packaged with a lot of unnecessary stress and pain. Imaginehow much progress I could have made if I had just picked up thebooks ten years earlier. One of those books was The Now Habit bypsychologist Neil Fiore,\n",
      "\n",
      "some‐thing you don’t want to do. Being forced to do anything createsresistance, which manifests as procrastination.Neil taught me to change from the language of oppression, negativeself-talk, to the language of choice, positive self-talk. Whenever I19\n",
      "\n",
      "up thebooks ten years earlier. One of those books was The Now Habit bypsychologist Neil Fiore, and it changed my life. I was so moved bywhat I read, and so fed up with my procrastination habit, that Iemailed Neil and hired him for sixteen one-on-one sessions to curemy procrastination. Neil taught me many things, and here are fourin particular that helped transform me from a procrastinator to aproducer.Positive self-talkOne of the most impactful things Neil taught me was to examinehow I spoke to\n",
      "\n",
      "in themoment, despite your original plan, it’s still a winning day. Don’tlet in$exibility get in the way of true productivity.TRAP #4: PROCRASTINATIONProcrastination is an obvious obstacle to performing at our best,right? After all, if you don’t do the work, you won’t improve or18\n",
      "\n"
     ]
    }
   ],
   "source": [
    "for doc in docs:\n",
    "    print (f\"{doc.page_content}\\n\")"
   ]
  },
  {
   "cell_type": "code",
   "execution_count": 16,
   "metadata": {},
   "outputs": [],
   "source": [
    "from langchain_openai import ChatOpenAI\n",
    "from langchain.chains.question_answering import load_qa_chain"
   ]
  },
  {
   "cell_type": "code",
   "execution_count": 17,
   "metadata": {},
   "outputs": [],
   "source": [
    "llm = ChatOpenAI(temperature=0, openai_api_key=OPENAI_API_KEY)\n",
    "chain = load_qa_chain(llm, chain_type=\"stuff\")"
   ]
  },
  {
   "cell_type": "code",
   "execution_count": 18,
   "metadata": {},
   "outputs": [],
   "source": [
    "query = \"How are the 3 realm of the life?\"\n",
    "docs = vectorstore.similarity_search(query)"
   ]
  },
  {
   "cell_type": "code",
   "execution_count": 21,
   "metadata": {},
   "outputs": [
    {
     "data": {
      "text/plain": [
       "'The three realms of life mentioned in the context are health, wealth (work), and relationships. These three domains are considered essential for living a happy and fulfilling life. High-performance coaches emphasize the importance of balancing and integrating these areas to achieve success without sacrificing one for the other.'"
      ]
     },
     "execution_count": 21,
     "metadata": {},
     "output_type": "execute_result"
    }
   ],
   "source": [
    "chain.run(input_documents=docs, question=query)"
   ]
  }
 ],
 "metadata": {
  "kernelspec": {
   "display_name": "Python 3",
   "language": "python",
   "name": "python3"
  },
  "language_info": {
   "codemirror_mode": {
    "name": "ipython",
    "version": 3
   },
   "file_extension": ".py",
   "mimetype": "text/x-python",
   "name": "python",
   "nbconvert_exporter": "python",
   "pygments_lexer": "ipython3",
   "version": "3.9.13"
  }
 },
 "nbformat": 4,
 "nbformat_minor": 2
}
