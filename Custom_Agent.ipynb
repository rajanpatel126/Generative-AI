{
 "cells": [
  {
   "cell_type": "code",
   "execution_count": 1,
   "metadata": {},
   "outputs": [],
   "source": [
    "import os\n",
    "from dotenv import load_dotenv\n",
    "load_dotenv()\n",
    "os.environ[\"OPENAI_API_KEY\"] = os.getenv(\"OPENAI_API_KEY\")"
   ]
  },
  {
   "cell_type": "code",
   "execution_count": 2,
   "metadata": {},
   "outputs": [],
   "source": [
    "from langchain.agents import Tool, AgentExecutor, LLMSingleActionAgent, AgentOutputParser\n",
    "from langchain.prompts import StringPromptTemplate\n",
    "from langchain_openai import OpenAI\n",
    "from langchain import  LLMChain\n",
    "from langchain.tools import DuckDuckGoSearchRun \n",
    "\n",
    "from typing import List, Union\n",
    "from langchain.schema import AgentAction, AgentFinish\n",
    "import re"
   ]
  },
  {
   "cell_type": "code",
   "execution_count": 3,
   "metadata": {},
   "outputs": [],
   "source": [
    "search = DuckDuckGoSearchRun()\n",
    "\n",
    "tools = [\n",
    "    Tool(\n",
    "        name = \"Search\",\n",
    "        func=search.run,\n",
    "        description=\"useful for when you need to answer questions about current events\"\n",
    "    )\n",
    "]"
   ]
  },
  {
   "cell_type": "code",
   "execution_count": 4,
   "metadata": {},
   "outputs": [
    {
     "data": {
      "text/plain": [
       "\"Typical cervical cancer symptoms are: unusual bleeding, like in between periods, after sex, or after menopause. vaginal discharge that looks or smells different than usual. pain in the pelvis ... Cervical cancer develops in a woman's cervix (the entrance to the uterus from the vagina). Its primary cause is the infection with high-risk human papillomaviruses (HPV). ... With a comprehensive approach to prevent, screen and treat, cervical cancer can be eliminated as a public health problem within a generation. A recent clinical trial has shown the effects of one such drug called tisotumab vedotin-tftv in helping women with recurrent cancers (cancer that has come back despite treatment). Kinne says the tisotumab vedotin-tftv attaches to cervical cancer cells and, once inside the cell, releases chemotherapy's toxic effects to kill the cancerous cell. Concurrent, cisplatin-based chemotherapy with radiation therapy is the standard of care for women who require radiation therapy for treatment of cervical cancer.[4-10] Radiation therapy protocols for patients with cervical cancer have historically used dosing at two anatomical points, termed point A and point B, to standardize the doses ... Cervical cancer is the fourth most common cancer in women. In 2018, an estimated 570 000 women were diagnosed with cervical cancer worldwide and about 311 000 women died from the disease. Effective primary (HPV vaccination) and secondary prevention approaches (screening for, and treating precancerous lesions) will prevent most cervical cancer ...\""
      ]
     },
     "execution_count": 4,
     "metadata": {},
     "output_type": "execute_result"
    }
   ],
   "source": [
    "obj = search.run(\"How can women treat cervical cancer?\")\n",
    "obj"
   ]
  },
  {
   "cell_type": "code",
   "execution_count": 5,
   "metadata": {},
   "outputs": [
    {
     "data": {
      "text/plain": [
       "'1 /19. Deep vein thrombosis is a blood clot that forms inside a vein, usually deep within your leg. As many as 900,000 Americans a year get one, and up to 100,000 die because of it. The danger is ... 11 /14. This stands for \"rest,\" \"ice,\" \"compression,\" and \"elevation.\". It\\'s most useful for sprains and broken bones, but it can help if your feet are swollen for other reasons ... All high heels boost the risk of an ankle sprain.The most common, a lateral sprain, happens when you roll onto the outside of the foot. This stretches the ankle ligaments beyond their normal length. Monitor and Treat Your Symptoms. The symptoms of a cold, the flu, and COVID-19 can look and feel similar. They include a stuffy nose, tiredness, and muscle aches. No matter which virus causes your symptoms, if they\\'re mild, the treatments are the same. Here are some things you can do: Drink fluids. Sleep more. Wound Care Step 3: Wash Around It. 8 /13. Put a little bit of soap on a washcloth and wash around the injured spot. Try not to get soap on the wound. Don\\'t use hydrogen peroxide or iodine, because ...'"
      ]
     },
     "execution_count": 5,
     "metadata": {},
     "output_type": "execute_result"
    }
   ],
   "source": [
    "search.run(\"site:webmd.com How can I treat a sprained ankle?\")"
   ]
  },
  {
   "cell_type": "code",
   "execution_count": 6,
   "metadata": {},
   "outputs": [],
   "source": [
    "def duck_wrapper(input_text):\n",
    "    search_results = search.run(f\"site:webmd.com {input_text}\")\n",
    "    return search_results\n",
    "\n",
    "tools = [\n",
    "    Tool(\n",
    "        name = \"Search WebMD\",\n",
    "        func=duck_wrapper,\n",
    "        description=\"useful for when you need to answer medical and pharmalogical questions\"\n",
    "    )\n",
    "]"
   ]
  },
  {
   "cell_type": "code",
   "execution_count": 7,
   "metadata": {},
   "outputs": [
    {
     "data": {
      "text/plain": [
       "\"An early-stage HER2-positive (HER2+) breast cancer is always a shock, but today's treatment options should give you hope. Over the past 2 decades, advances in medicine have brought us new ... Yoga. This form of exercise helps connect breath to movement. It slows your heart rate, blood pressure, and brain waves. Women who take yoga classes while having radiation for breast cancer say ... Early-stage breast cancer hasn't spread past your breast or auxiliary lymph nodes -- the ones near your armpit. Most people diagnosed with breast cancer in the U.S. are still in the early stages ... The goal is to kill as many cancer cells as possible without harming healthy ones. Most people get 10-20 minutes of radiation therapy 5 days a week for 3-7 weeks. The procedure itself is painless ... Mammograms. 4 /26. The earlier you find the disease, the easier it is to treat. Mammograms, an X-ray of the breast, can show tumors before they get large enough to feel. The American Cancer ...\""
      ]
     },
     "execution_count": 7,
     "metadata": {},
     "output_type": "execute_result"
    }
   ],
   "source": [
    "duck_wrapper(\"How to cure brest cencer?\")"
   ]
  },
  {
   "cell_type": "code",
   "execution_count": 8,
   "metadata": {},
   "outputs": [],
   "source": [
    "# Set up the base template\n",
    "template = \"\"\"Answer the following questions as best you can, but speaking as compasionate medical professional. You have access to the following tools:\n",
    "\n",
    "{tools}\n",
    "\n",
    "Use the following format:\n",
    "\n",
    "Question: the input question you must answer\n",
    "Thought: you should always think about what to do\n",
    "Action: the action to take, should be one of [{tool_names}]\n",
    "Action Input: the input to the action\n",
    "Observation: the result of the action\n",
    "... (this Thought/Action/Action Input/Observation can repeat N times)\n",
    "Thought: I now know the final answer\n",
    "Final Answer: the final answer to the original input question\n",
    "\n",
    "Begin! Remember to answer as a compansionate medical professional when giving your final answer.\n",
    "\n",
    "Question: {input}\n",
    "{agent_scratchpad}\"\"\""
   ]
  },
  {
   "cell_type": "code",
   "execution_count": 9,
   "metadata": {},
   "outputs": [],
   "source": [
    "class CustomPromptTemplate(StringPromptTemplate):\n",
    "    # The template to use\n",
    "    template: str\n",
    "    # The list of tools available\n",
    "    tools: List[Tool]\n",
    "    \n",
    "    def format(self, **kwargs) -> str:\n",
    "        # Get the intermediate steps (AgentAction, Observation tuples)\n",
    "        # Format them in a particular way\n",
    "        intermediate_steps = kwargs.pop(\"intermediate_steps\")\n",
    "        thoughts = \"\"\n",
    "        for action, observation in intermediate_steps:\n",
    "            thoughts += action.log\n",
    "            thoughts += f\"\\nObservation: {observation}\\nThought: \"\n",
    "        # Set the agent_scratchpad variable to that value\n",
    "        kwargs[\"agent_scratchpad\"] = thoughts\n",
    "        # Create a tools variable from the list of tools provided\n",
    "        kwargs[\"tools\"] = \"\\n\".join([f\"{tool.name}: {tool.description}\" for tool in self.tools])\n",
    "        # Create a list of tool names for the tools provided\n",
    "        kwargs[\"tool_names\"] = \", \".join([tool.name for tool in self.tools])\n",
    "        return self.template.format(**kwargs)"
   ]
  },
  {
   "cell_type": "code",
   "execution_count": 10,
   "metadata": {},
   "outputs": [],
   "source": [
    "prompt = CustomPromptTemplate(\n",
    "    template=template,\n",
    "    tools=tools,\n",
    "    input_variables=[\"input\", \"intermediate_steps\"]\n",
    ")"
   ]
  },
  {
   "cell_type": "code",
   "execution_count": 11,
   "metadata": {},
   "outputs": [],
   "source": [
    "class CustomOutputParser(AgentOutputParser):\n",
    "    \n",
    "    def parse(self, llm_output: str) -> Union[AgentAction, AgentFinish]:\n",
    "        # Check if agent should finish\n",
    "        if \"Final Answer:\" in llm_output:\n",
    "            return AgentFinish(\n",
    "                # Return values is generally always a dictionary with a single `output` key\n",
    "                # It is not recommended to try anything else at the moment :)\n",
    "                return_values={\"output\": llm_output.split(\"Final Answer:\")[-1].strip()},\n",
    "                log=llm_output,\n",
    "            )\n",
    "        # Parse out the action and action input\n",
    "        regex = r\"Action\\s*\\d*\\s*:(.*?)\\nAction\\s*\\d*\\s*Input\\s*\\d*\\s*:[\\s]*(.*)\"\n",
    "        match = re.search(regex, llm_output, re.DOTALL)\n",
    "        if not match:\n",
    "            raise ValueError(f\"Could not parse LLM output: `{llm_output}`\")\n",
    "        action = match.group(1).strip()\n",
    "        action_input = match.group(2)\n",
    "        # Return the action and action input\n",
    "        return AgentAction(tool=action, tool_input=action_input.strip(\" \").strip('\"'), log=llm_output)"
   ]
  },
  {
   "cell_type": "code",
   "execution_count": 12,
   "metadata": {},
   "outputs": [],
   "source": [
    "output_parser = CustomOutputParser()"
   ]
  },
  {
   "cell_type": "code",
   "execution_count": 13,
   "metadata": {},
   "outputs": [],
   "source": [
    "llm = OpenAI(temperature=0.6)"
   ]
  },
  {
   "cell_type": "code",
   "execution_count": 14,
   "metadata": {},
   "outputs": [
    {
     "name": "stderr",
     "output_type": "stream",
     "text": [
      "c:\\Users\\rajan\\Desktop\\Coding\\Jupyter Notebook\\venv\\lib\\site-packages\\langchain_core\\_api\\deprecation.py:117: LangChainDeprecationWarning: The class `langchain.agents.agent.LLMSingleActionAgent` was deprecated in langchain 0.1.0 and will be removed in 0.2.0. Use Use new agent constructor methods like create_react_agent, create_json_agent, create_structured_chat_agent, etc. instead.\n",
      "  warn_deprecated(\n"
     ]
    }
   ],
   "source": [
    "llm_chain = LLMChain(llm=llm, prompt=prompt)\n",
    "tool_names = [tool.name for tool in tools]\n",
    "\n",
    "agent = LLMSingleActionAgent(\n",
    "    llm_chain=llm_chain, \n",
    "    output_parser=output_parser,\n",
    "    stop=[\"\\nObservation:\"], \n",
    "    allowed_tools=tool_names\n",
    ")"
   ]
  },
  {
   "cell_type": "code",
   "execution_count": 15,
   "metadata": {},
   "outputs": [],
   "source": [
    "agent_executor = AgentExecutor.from_agent_and_tools(agent=agent, \n",
    "                                                    tools=tools, \n",
    "                                                    verbose=True)"
   ]
  },
  {
   "cell_type": "code",
   "execution_count": 16,
   "metadata": {},
   "outputs": [
    {
     "name": "stderr",
     "output_type": "stream",
     "text": [
      "c:\\Users\\rajan\\Desktop\\Coding\\Jupyter Notebook\\venv\\lib\\site-packages\\langchain_core\\_api\\deprecation.py:117: LangChainDeprecationWarning: The function `run` was deprecated in LangChain 0.1.0 and will be removed in 0.2.0. Use invoke instead.\n",
      "  warn_deprecated(\n"
     ]
    },
    {
     "name": "stdout",
     "output_type": "stream",
     "text": [
      "\n",
      "\n",
      "\u001b[1m> Entering new AgentExecutor chain...\u001b[0m\n",
      "\u001b[32;1m\u001b[1;3mThought: It is important to have a thorough understanding of the disease before determining treatment options.\n",
      "Action: Search WebMD\n",
      "Action Input: \"Cervical Cancer Treatment\"\u001b[0m\n",
      "\n",
      "Observation:\u001b[36;1m\u001b[1;3mJune 15, 2023 -- A simple hysterectomy is a safe, effective treatment option for women with low-risk, early-stage cervical cancer, according to new research. As compared to the more complex ... \"Patients with cervical cancer have few treatment options once their cancer comes back or spreads after initial treatment,\" said Ignace B. Vergote, MD, co-founder of European Network of ... Get the latest news on Cervical Cancer management, research, treatment advancements and more from WebMD. ... 2023 — One way of increasing the uptake of screening for cervical cancer is mailing ... External Beam Radiation. This treatment attacks cancer cells with high-energy particles (proton or particle therapy) or waves (X-rays). It kills or damages cells in one specific area instead of ... Stage I means the cancer is small and only in one area. This is also called early-stage cancer. Stage II and III mean the cancer is larger and has grown into nearby tissues or lymph nodes. Stage ...\u001b[0m\n",
      "\u001b[32;1m\u001b[1;3mIt is important to have a multidisciplinary approach to treating cervical cancer, involving a team of specialists.\n",
      "Action: Search WebMD\n",
      "Action Input: \"Cervical Cancer Treatment Team\"\u001b[0m\n",
      "\n",
      "Observation:\u001b[36;1m\u001b[1;3mJune 15, 2023 -- A simple hysterectomy is a safe, effective treatment option for women with low-risk, early-stage cervical cancer, according to new research. As compared to the more complex ... TIVDAK (tisotumab vedotin) showed a 33% decrease in the risk of worsening disease or death. The intravenous drug showed an improved objective response rate of 17.8% compared to chemotherapy at 5.2%. Black Salve. 6 /15. This is a paste, cream, or ointment made with zinc chloride and herbs, such as a plant called bloodroot. Some say the salve targets cancerous tissue in your skin, but that's ... May 12, 2023 -- Mailing do-it-yourself sampling kits to test for cervical cancer doubled the rate of screening in a population of low-income and under-screened women, researchers say. The self ... Treatment for Cervical Cell Changes. 9/13. If your doctor finds that HPV has caused changes in some cells that they think could lead to cervical cancer, they might use cryosurgery to freeze the ...\u001b[0m\n",
      "\u001b[32;1m\u001b[1;3m It is important to be aware of alternative treatments and their potential risks.\n",
      "Action: Search WebMD\n",
      "Action Input: \"Alternative Cervical Cancer Treatments\"\u001b[0m\n",
      "\n",
      "Observation:\u001b[36;1m\u001b[1;3mNov. 2, 2023 -- Drug makers Seagen Inc. and Genmab A/S say Phase 3 trial results show a 30% drop in the risk of death from cervical cancer compared with chemotherapy. \"Patients with cervical ... June 15, 2023 -- A simple hysterectomy is a safe, effective treatment option for women with low-risk, early-stage cervical cancer, according to new research. As compared to the more complex ... American Cancer Society: \"Positive Attitudes,\" \"The Truth About Alternative Medical Treatments.\" American Cancer Society Complete Guide to Complementary & Alternative Therapies , American Cancer ... Eat More Broccoli. 2 /14. Fruits and veggies pack an anti-cancer punch because they're high in nutrients and fiber, and low in fat. Try broccoli, Brussels sprouts, cabbage, kale, watercress, or ... The vitamins that may actually help stave off cancers are calcium, multivitamins, and vitamin D. One Harvard study found that 2,000 international units of vitamin D greatly lowered risk of cancer ...\u001b[0m\n",
      "\u001b[32;1m\u001b[1;3m It is important to consult with a trusted medical professional before making any treatment decisions.\n",
      "Action: Search WebMD\n",
      "Action Input: \"Cervical Cancer Treatment Options\"\u001b[0m\n",
      "\n",
      "Observation:\u001b[36;1m\u001b[1;3mJune 15, 2023 -- A simple hysterectomy is a safe, effective treatment option for women with low-risk, early-stage cervical cancer, according to new research. As compared to the more complex ... \"Patients with cervical cancer have few treatment options once their cancer comes back or spreads after initial treatment,\" said Ignace B. Vergote, MD, co-founder of European Network of ... External Beam Radiation. This treatment attacks cancer cells with high-energy particles (proton or particle therapy) or waves (X-rays). It kills or damages cells in one specific area instead of ... Stage I means the cancer is small and only in one area. This is also called early-stage cancer. Stage II and III mean the cancer is larger and has grown into nearby tissues or lymph nodes. Stage ... Get the latest news on Cervical Cancer management, research, treatment advancements and more from WebMD. ... 2023 — One way of increasing the uptake of screening for cervical cancer is mailing ...\u001b[0m\n",
      "\u001b[32;1m\u001b[1;3m I now know the final answer\n",
      "Final Answer: The treatment for cervical cancer depends on the stage and severity of the disease, and it is important to consult with a multidisciplinary team of medical professionals to determine the best course of action. This may include surgery, radiation therapy, chemotherapy, or targeted therapy. It is also important to be aware of alternative treatments, but always consult with a trusted medical professional before making any treatment decisions.\u001b[0m\n",
      "\n",
      "\u001b[1m> Finished chain.\u001b[0m\n"
     ]
    },
    {
     "data": {
      "text/plain": [
       "'The treatment for cervical cancer depends on the stage and severity of the disease, and it is important to consult with a multidisciplinary team of medical professionals to determine the best course of action. This may include surgery, radiation therapy, chemotherapy, or targeted therapy. It is also important to be aware of alternative treatments, but always consult with a trusted medical professional before making any treatment decisions.'"
      ]
     },
     "execution_count": 16,
     "metadata": {},
     "output_type": "execute_result"
    }
   ],
   "source": [
    "agent_executor.run(\"How to Treat Cervical Cancer?\")"
   ]
  },
  {
   "cell_type": "code",
   "execution_count": null,
   "metadata": {},
   "outputs": [],
   "source": []
  }
 ],
 "metadata": {
  "kernelspec": {
   "display_name": "venv",
   "language": "python",
   "name": "python3"
  },
  "language_info": {
   "codemirror_mode": {
    "name": "ipython",
    "version": 3
   },
   "file_extension": ".py",
   "mimetype": "text/x-python",
   "name": "python",
   "nbconvert_exporter": "python",
   "pygments_lexer": "ipython3",
   "version": "3.9.13"
  }
 },
 "nbformat": 4,
 "nbformat_minor": 2
}
