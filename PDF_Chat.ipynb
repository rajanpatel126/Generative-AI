{
 "cells": [
  {
   "cell_type": "code",
   "execution_count": 2,
   "metadata": {},
   "outputs": [],
   "source": [
    "import os\n",
    "# os.environ[\"OPENAI_API_KEY\"] = os.getenv(\"OPENAI_API_KEY\")\n",
    "from dotenv import load_dotenv"
   ]
  },
  {
   "cell_type": "code",
   "execution_count": 19,
   "metadata": {},
   "outputs": [],
   "source": [
    "import google.generativeai as genai\n",
    "from langchain_google_genai import ChatGoogleGenerativeAI,GoogleGenerativeAIEmbeddings\n",
    "load_dotenv()\n",
    "genai.configure(api_key=os.getenv(\"GOOGLE_API_KEY\"))"
   ]
  },
  {
   "cell_type": "code",
   "execution_count": 5,
   "metadata": {},
   "outputs": [],
   "source": [
    "from langchain_community.document_loaders import PyPDFLoader\n",
    "from langchain_community.vectorstores import FAISS\n",
    "from langchain.text_splitter import CharacterTextSplitter"
   ]
  },
  {
   "cell_type": "code",
   "execution_count": 16,
   "metadata": {},
   "outputs": [
    {
     "data": {
      "text/plain": [
       "<langchain_community.document_loaders.pdf.PyPDFLoader at 0x159ce8a41f0>"
      ]
     },
     "execution_count": 16,
     "metadata": {},
     "output_type": "execute_result"
    }
   ],
   "source": [
    "# doc_reader = PyPDFLoader(\"The_3_Alarms.pdf\")\n",
    "doc_reader = PyPDFLoader(\"doc.pdf\")\n",
    "doc_reader"
   ]
  },
  {
   "cell_type": "code",
   "execution_count": 8,
   "metadata": {},
   "outputs": [
    {
     "data": {
      "text/plain": [
       "Document(page_content='Amrita Vishwa Vidyapeetham \\nAnticipated Questions from NAAC Peer Review Team (PRT) \\n \\nCurricular aspects \\n1. In what way are you ensuring that the curriculum design is aligned with the institutional \\ngoals and objectives? Can you provide some examples? \\n2. Do you have examples to show that the curriculum addresses the current \\nlocal/regional/national/global needs of stakeholders? \\n3. Do you have any courses related to gender, environment, sustainability, ethics & values? \\n4. In what way do you ensure that employability is a significant consideration in developing \\nthe curriculum? \\n5. In what way does the curriculum include value-based education? \\n6. Are all the department faculty members involved in providing inputs for curriculum \\ndevelopment? How is that done? Are there documents to show that the inputs are \\ncaptured? \\n7. Do you have a mechanism for formally collecting inputs/feedback on curriculum design \\n& development from industrial employers and academic experts from eminent \\ninstitutions? \\n8. What kind of value-added courses do you offer (something that benefits students, but is \\nnot part of the curriculum)? \\n9. How many Board of Studies (BoS) meetings have you had in the reporting period \\n(Jul2014 to Jun2019 and/or till date)?  \\n10. What is your mechanism for adding new electives to the curriculum? \\n11. What is your mechanism for offering new PhD level courses? Do you have a list of PhD \\ncourses offered by faculty members of your department? \\n12. How many choices are typically offered for an elective course? Do you have policies on \\nminimum number of student registrations for the elective choice to be offered? \\n13. Do you offer elective courses that are open to students of other departments/branches? \\n \\n \\nTeaching, Learning, and Evaluation \\n1. How do you ensure transparency in the admission process for your programs? Do you \\nhave a flow chart for the admission process? \\n2. What is the typical student gender ratio in your various programs? \\n3. How do you address student diversity w.r.t. teaching and learning (slow-learners, fast-\\nlearners, etc.)? \\n4. Do you have a mechanism for mentoring students? \\n5. What are your strategies and mechanisms for fast and slow learners? \\n6. Are there some well established practices implemented for advanced preparation by \\nteachers for offering courses (lesson plans, evaluation scheme, recommended \\npedagogical methods, etc.)? \\n7. How do teachers document the classroom transactions (attendance, evaluation, etc.)? \\n8. What kind of ICT & audiovisual aids are used in regular teaching & evaluation? \\n9. How many faculty members do you have? How many of them have a doctoral degree? \\n10. What is the process involved in recruitment of faculty members?', metadata={'source': 'doc.pdf', 'page': 0})"
      ]
     },
     "execution_count": 8,
     "metadata": {},
     "output_type": "execute_result"
    }
   ],
   "source": [
    "pages = doc_reader.load_and_split()\n",
    "pages[0]"
   ]
  },
  {
   "cell_type": "code",
   "execution_count": 9,
   "metadata": {},
   "outputs": [],
   "source": [
    "text_splitter = CharacterTextSplitter(\n",
    "    separator=\"\\n\",\n",
    "    chunk_size=1000,\n",
    "    chunk_overlap=200,\n",
    "    length_function=len,\n",
    "    is_separator_regex=False,\n",
    ")"
   ]
  },
  {
   "cell_type": "code",
   "execution_count": 14,
   "metadata": {},
   "outputs": [
    {
     "name": "stdout",
     "output_type": "stream",
     "text": [
      "page_content='Amrita Vishwa Vidyapeetham \\nAnticipated Questions from NAAC Peer Review Team (PRT) \\n \\nCurricular aspects \\n1. In what way are you ensuring that the curriculum design is aligned with the institutional \\ngoals and objectives? Can you provide some examples? \\n2. Do you have examples to show that the curriculum addresses the current \\nlocal/regional/national/global needs of stakeholders? \\n3. Do you have any courses related to gender, environment, sustainability, ethics & values? \\n4. In what way do you ensure that employability is a significant consideration in developing \\nthe curriculum? \\n5. In what way does the curriculum include value-based education? \\n6. Are all the department faculty members involved in providing inputs for curriculum \\ndevelopment? How is that done? Are there documents to show that the inputs are \\ncaptured? \\n7. Do you have a mechanism for formally collecting inputs/feedback on curriculum design \\n& development from industrial employers and academic experts from eminent' metadata={'source': 'doc.pdf', 'page': 0}\n"
     ]
    }
   ],
   "source": [
    "texts = text_splitter.split_documents(pages)\n",
    "print(texts[0])"
   ]
  },
  {
   "cell_type": "code",
   "execution_count": 20,
   "metadata": {},
   "outputs": [],
   "source": [
    "model = ChatGoogleGenerativeAI(model=\"gemini-pro\",temperature=0.5)"
   ]
  },
  {
   "cell_type": "code",
   "execution_count": 22,
   "metadata": {},
   "outputs": [
    {
     "data": {
      "text/plain": [
       "\"**Youth's Wasted Ink**\\n\\nOh, youth, so bright, with dreams untold,\\nBut trapped in halls, where pens unfold.\\nExams, exams, a endless stream,\\nA meaningless pursuit, it would seem.\\n\\nWith every stroke, our spirits dim,\\nAs knowledge fades and boredom swims.\\nWe mark the boxes, fill the blanks,\\nBut what we learn, it quickly tanks.\\n\\nOur minds, once vibrant, now so dull,\\nAs we're forced to cram, our brains to pull.\\nExams, exams, a cruel charade,\\nWhere youth is wasted, a tragic trade.\\n\\nSo let us raise a glass to this,\\nThe senseless waste of youth's sweet kiss.\\nMay future generations find a way,\\nTo learn and grow, without this endless fray.\""
      ]
     },
     "execution_count": 22,
     "metadata": {},
     "output_type": "execute_result"
    }
   ],
   "source": [
    "model.call_as_llm(\"Write a short poem on youth being wasted in giving meaningless written exams in a sarcastic way\")"
   ]
  },
  {
   "cell_type": "code",
   "execution_count": 26,
   "metadata": {},
   "outputs": [
    {
     "name": "stdout",
     "output_type": "stream",
     "text": [
      " **Youth's Wasted Ink**\n",
      "Oh, youth, so bright, with dreams untold,\n",
      "But trapped in halls, where pens unfold.\n",
      "Exams, exams, a endless stream,\n",
      "A meaningless pursuit, it would seem.\n",
      "\n",
      "With every stroke, our spirits dim,\n",
      "As knowledge fades and boredom swims.\n",
      "We mark the boxes, fill the blanks,\n",
      "But what we learn, it quickly tanks.\n",
      "\n",
      "Our minds, once vibrant, now so dull,\n",
      "As we're forced to cram, our brains to pull.\n",
      "Exams, exams, a cruel charade,\n",
      "Where youth is wasted, a tragic trade.\n",
      "\n",
      "So let us raise a glass to this,\n",
      "The senseless waste of youth's sweet kiss.\n",
      "May future generations find a way,\n",
      "To learn and grow, without this endless fray. \n"
     ]
    }
   ],
   "source": [
    "print(\"\"\" **Youth's Wasted Ink**\n",
    "Oh, youth, so bright, with dreams untold,\n",
    "But trapped in halls, where pens unfold.\n",
    "Exams, exams, a endless stream,\n",
    "A meaningless pursuit, it would seem.\\n\\nWith every stroke, our spirits dim,\\nAs knowledge fades and boredom swims.\\nWe mark the boxes, fill the blanks,\\nBut what we learn, it quickly tanks.\\n\\nOur minds, once vibrant, now so dull,\\nAs we're forced to cram, our brains to pull.\\nExams, exams, a cruel charade,\\nWhere youth is wasted, a tragic trade.\\n\\nSo let us raise a glass to this,\\nThe senseless waste of youth's sweet kiss.\\nMay future generations find a way,\\nTo learn and grow, without this endless fray. \"\"\")"
   ]
  },
  {
   "cell_type": "code",
   "execution_count": null,
   "metadata": {},
   "outputs": [],
   "source": []
  }
 ],
 "metadata": {
  "kernelspec": {
   "display_name": "Python 3",
   "language": "python",
   "name": "python3"
  },
  "language_info": {
   "codemirror_mode": {
    "name": "ipython",
    "version": 3
   },
   "file_extension": ".py",
   "mimetype": "text/x-python",
   "name": "python",
   "nbconvert_exporter": "python",
   "pygments_lexer": "ipython3",
   "version": "3.10.13"
  }
 },
 "nbformat": 4,
 "nbformat_minor": 2
}
