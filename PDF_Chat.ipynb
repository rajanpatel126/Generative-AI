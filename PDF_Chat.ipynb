{
 "cells": [
  {
   "cell_type": "code",
   "execution_count": 2,
   "metadata": {},
   "outputs": [],
   "source": [
    "import os\n",
    "# os.environ[\"OPENAI_API_KEY\"] = os.getenv(\"OPENAI_API_KEY\")\n",
    "from dotenv import load_dotenv"
   ]
  },
  {
   "cell_type": "code",
   "execution_count": 3,
   "metadata": {},
   "outputs": [],
   "source": [
    "import google.generativeai as genai\n",
    "from langchain_google_genai import ChatGoogleGenerativeAI\n",
    "load_dotenv()\n",
    "genai.configure(api_key=os.getenv(\"GOOGLE_API_KEY\"))"
   ]
  },
  {
   "cell_type": "code",
   "execution_count": 4,
   "metadata": {},
   "outputs": [],
   "source": [
    "from langchain_community.document_loaders import PyPDFLoader\n",
    "from langchain_community.vectorstores import FAISS\n",
    "from langchain.text_splitter import CharacterTextSplitter"
   ]
  },
  {
   "cell_type": "code",
   "execution_count": 5,
   "metadata": {},
   "outputs": [
    {
     "data": {
      "text/plain": [
       "<langchain_community.document_loaders.pdf.PyPDFLoader at 0x260a3d7d580>"
      ]
     },
     "execution_count": 5,
     "metadata": {},
     "output_type": "execute_result"
    }
   ],
   "source": [
    "doc_reader = PyPDFLoader(\"The_3_Alarms.pdf\")\n",
    "# doc_reader = PyPDFLoader(\"doc.pdf\")\n",
    "doc_reader"
   ]
  },
  {
   "cell_type": "code",
   "execution_count": 6,
   "metadata": {},
   "outputs": [
    {
     "data": {
      "text/plain": [
       "Document(page_content='THE 3 ALARMSA Simple System to Transform Your Health, Wealth, and Relationships ForeverERIC PARTAKER', metadata={'source': 'The_3_Alarms.pdf', 'page': 1})"
      ]
     },
     "execution_count": 6,
     "metadata": {},
     "output_type": "execute_result"
    }
   ],
   "source": [
    "pages = doc_reader.load_and_split()\n",
    "pages[0]"
   ]
  },
  {
   "cell_type": "code",
   "execution_count": 7,
   "metadata": {},
   "outputs": [],
   "source": [
    "text_splitter = CharacterTextSplitter(\n",
    "    separator=\"\\n\",\n",
    "    chunk_size=1500,\n",
    "    chunk_overlap=200,\n",
    "    length_function=len,\n",
    "    is_separator_regex=False,\n",
    ")"
   ]
  },
  {
   "cell_type": "code",
   "execution_count": 8,
   "metadata": {},
   "outputs": [
    {
     "name": "stdout",
     "output_type": "stream",
     "text": [
      "page_content='THE 3 ALARMSA Simple System to Transform Your Health, Wealth, and Relationships ForeverERIC PARTAKER' metadata={'source': 'The_3_Alarms.pdf', 'page': 1}\n"
     ]
    }
   ],
   "source": [
    "texts = text_splitter.split_documents(pages)\n",
    "print(texts[0])"
   ]
  },
  {
   "cell_type": "code",
   "execution_count": 9,
   "metadata": {},
   "outputs": [],
   "source": [
    "model = ChatGoogleGenerativeAI(model=\"gemini-pro\",temperature=0.5)"
   ]
  },
  {
   "cell_type": "code",
   "execution_count": 11,
   "metadata": {},
   "outputs": [
    {
     "data": {
      "text/plain": [
       "AIMessage(content='**The 3 Alarms: Managing the Complexity of Modern Cyber Threats**\\n\\n**Overview:**\\n\\n\"The 3 Alarms\" is a comprehensive book that provides a deep dive into the evolving landscape of cyber threats and the challenges faced by organizations in managing them. It presents a framework based on the concept of three \"alarms\" that signal the need for organizations to take action to protect themselves from cyberattacks.\\n\\n**The 3 Alarms:**\\n\\n* **Alarm 1: The Perimeter is Broken**\\n   - Discusses the challenges of securing traditional network perimeters and the need for organizations to adopt a \"zero trust\" approach.\\n* **Alarm 2: The Data is Compromised**\\n   - Explores the risks associated with data breaches and the importance of data protection strategies.\\n* **Alarm 3: The Business is Impacted**\\n   - Examines the impact of cyberattacks on business operations and the need for organizations to develop resilience plans.\\n\\n**Key Concepts:**\\n\\n* **Complexity and Interconnectedness:** The book emphasizes the increasing complexity and interconnectedness of modern IT environments, which makes organizations more vulnerable to cyber threats.\\n* **Cyber Resilience:** It stresses the importance of building cyber resilience by adopting a proactive and multi-layered approach to cybersecurity.\\n* **Human Factor:** The book acknowledges the role of the human factor in cybersecurity incidents and provides guidance on mitigating these risks.\\n* **Integrated Approach:** It advocates for an integrated approach to cybersecurity that involves collaboration between IT, security, and business stakeholders.\\n\\n**Target Audience:**\\n\\n\"The 3 Alarms\" is intended for cybersecurity professionals, IT managers, business leaders, and anyone interested in understanding the challenges of modern cyber threats and developing effective cybersecurity strategies.')"
      ]
     },
     "execution_count": 11,
     "metadata": {},
     "output_type": "execute_result"
    }
   ],
   "source": [
    "model.invoke(\"Tell me the overview of the 3 alarms book in brief.\")"
   ]
  },
  {
   "cell_type": "code",
   "execution_count": null,
   "metadata": {},
   "outputs": [],
   "source": [
    "\"\"\"The 3 Alarms: Managing the Complexity of Modern Cyber Threats**\\n\\n**Overview:**\\n\\n\"\n",
    "The 3 Alarms\" is a comprehensive book that provides a deep dive into the evolving landscape of cyber threats and \n",
    "the challenges faced by organizations in managing them. It presents a framework based on the concept of three \"al\n",
    "arms\" that signal the need for organizations to take action to protect themselves from cyberattacks.\\n\\n**The 3 A\n",
    "larms:**\\n\\n* **Alarm 1: The Perimeter is Broken**\\n   - Discusses the challenges of securing traditional network peri\n",
    "meters and the need for organizations to adopt a \"zero trust\" approach.\\n* **Alarm 2: The Data is Compromised**\\n   - \n",
    "Explores the risks associated with data breaches and the importance of data protection strategies.\\n* **Alarm 3: The B\n",
    "usiness is Impacted**\\n   - Examines the impact of cyberattacks on business operations and the need for organizations \n",
    "to develop resilience plans.\\n\\n**Key Concepts:**\\n\\n* **Complexity and Interconnectedness:** The book emphasizes the \n",
    "increasing complexity and interconnectedness of modern IT environments, which makes organizations more vulnerable to \n",
    "cyber threats.\\n* **Cyber Resilience:** It stresses the importance of building cyber resilience by adopting a proactive\n",
    "and multi-layered approach to cybersecurity.\\n* **Human Factor:** The book acknowledges the role of the human factor in\n",
    "cybersecurity incidents and provides guidance on mitigating these risks.\\n* **Integrated Approach:** It advocates for\n",
    "an integrated approach to cybersecurity that involves collaboration between IT, security, and business stakeholders.\\n\\n**Target Audience:**\\n\\n\"The 3 Alarms\" is intended for cybersecurity professionals, IT managers, business leaders, and anyone interested in understanding the challenges of moder\n",
    "n cyber threats and developing effective cybersecurity strategies.')\"\"\""
   ]
  }
 ],
 "metadata": {
  "kernelspec": {
   "display_name": "Python 3",
   "language": "python",
   "name": "python3"
  },
  "language_info": {
   "codemirror_mode": {
    "name": "ipython",
    "version": 3
   },
   "file_extension": ".py",
   "mimetype": "text/x-python",
   "name": "python",
   "nbconvert_exporter": "python",
   "pygments_lexer": "ipython3",
   "version": "3.12.2"
  }
 },
 "nbformat": 4,
 "nbformat_minor": 2
}
